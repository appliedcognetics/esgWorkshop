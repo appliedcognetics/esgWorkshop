{
 "cells": [
  {
   "attachments": {},
   "cell_type": "markdown",
   "metadata": {},
   "source": [
    "# NoteBook 1\n",
    "## Lab Instructions here :\n",
    "\n",
    "0. Ensure Azure KeyVault is created.\n",
    "    -[Create Azure KeyVault](https://learn.microsoft.com/en-us/azure/key-vault/general/quick-create-portal)\n",
    "1. Install Azure Synapse & Create a small serverless Apache Spark Pool\n",
    "    -[Create Synapse Workspace](https://learn.microsoft.com/en-us/azure/synapse-analytics/quickstart-create-workspace)\n",
    "    -[Create Serverless Apache Spark Pool](https://learn.microsoft.com/en-us/azure/synapse-analytics/quickstart-create-apache-spark-pool-portal)\n",
    "    -[Configure Access to Azure KeyVault](https://learn.microsoft.com/en-us/azure/synapse-analytics/spark/microsoft-spark-utilities?pivots=programming-language-python#configure-access-to-azure-key-vault)\n",
    "    -[Another Article for Configuring KeyVault Access](https://learn.microsoft.com/en-us/azure/synapse-analytics/machine-learning/tutorial-configure-cognitive-services-synapse#create-a-key-vault-and-configure-secrets-and-access)\n",
    "    - [Documentation](https://learn.microsoft.com/en-us/azure/cognitive-services/big-data/getting-started#azure-synapse-analytics-optional)\n",
    "2. Configure Cognitive Services\n",
    "3. Edit the parameters in the notebook for the following\n",
    "    - Azure Search\n",
    "    - Azure SQL \n",
    "    - Azure Cognitive Services Key\n",
    "4. Make sure the storage account is hydrated with PDF (create a directory called notebook1_pdf)\n",
    "5. Run Cell to Process a document\n",
    "6. Run Cell to Observe the output\n",
    "7. Run Cell to write to Azure Search Index\n",
    "    - Understand the schema and index being written to \n",
    "8. Run Cell to write to Azure SQL Database\n",
    "\n",
    "## Appendix\n",
    "1. [SynapseML Documentation](https://microsoft.github.io/SynapseML/docs/features/cognitive_services/CognitiveServices%20-%20Overview/)\n",
    "2. [Microsoft Spark Utilities](https://learn.microsoft.com/en-us/azure/synapse-analytics/spark/microsoft-spark-utilities)\n",
    "3. [Configure Access to Azure Key Vault](https://learn.microsoft.com/en-us/azure/synapse-analytics/spark/microsoft-spark-utilities?pivots=programming-language-python#configure-access-to-azure-key-vault)\n",
    "4. https://learn.microsoft.com/en-us/azure/synapse-analytics/cognitive-services-with-synapseml-overview"
   ]
  },
  {
   "cell_type": "code",
   "execution_count": null,
   "metadata": {},
   "outputs": [],
   "source": [
    "import synapse.ml\n",
    "from synapse.ml.cognitive import *\n",
    "from notebookutils import mssparkutils\n",
    "\n",
    "# A general Cognitive Services key for Text Analytics and Computer Vision (or use separate keys that belong to each service)\n",
    "cognitive_service_key = mssparkutils.credentials.getSecret(\"ADD_YOUR_KEY_VAULT_NAME\", \"ADD_YOUR_SERVICE_KEY\",\"ADD_YOUR_KEY_VAULT_LINKED_SERVICE_NAME\")\n",
    "# A Bing Search v7 subscription key\n",
    "bingsearch_service_key = mssparkutils.credentials.getSecret(\"ADD_YOUR_KEY_VAULT_NAME\", \"ADD_YOUR_BING_SEARCH_KEY\",\"ADD_YOUR_KEY_VAULT_LINKED_SERVICE_NAME\")\n",
    "# An Anomaly Dectector subscription key\n",
    "anomalydetector_key = mssparkutils.credentials.getSecret(\"ADD_YOUR_KEY_VAULT_NAME\", \"ADD_YOUR_ANOMALY_KEY\",\"ADD_YOUR_KEY_VAULT_LINKED_SERVICE_NAME\")\n"
   ]
  },
  {
   "attachments": {},
   "cell_type": "markdown",
   "metadata": {},
   "source": [
    "# Run the sample below to "
   ]
  },
  {
   "cell_type": "code",
   "execution_count": null,
   "metadata": {},
   "outputs": [],
   "source": [
    "from mmlspark.cognitive import *\n",
    "from pyspark.sql.functions import col\n",
    "\n",
    "# Add your region and subscription key from the Language service (or a general Cognitive Service key)\n",
    "# If using a multi-region Cognitive Services resource, delete the placeholder text: service_region = \"\"\n",
    "service_key = \"ADD-SUBSCRIPTION-KEY-HERE\"\n",
    "service_region = \"ADD-SERVICE-REGION-HERE\"\n",
    "\n",
    "df = spark.createDataFrame([\n",
    "  (\"I am so happy today, its sunny!\", \"en-US\"),\n",
    "  (\"I am frustrated by this rush hour traffic\", \"en-US\"),\n",
    "  (\"The cognitive services on spark aint bad\", \"en-US\"),\n",
    "], [\"text\", \"language\"])\n",
    "\n",
    "sentiment = (TextSentiment()\n",
    "    .setTextCol(\"text\")\n",
    "    .setLocation(service_region)\n",
    "    .setSubscriptionKey(service_key)\n",
    "    .setOutputCol(\"sentiment\")\n",
    "    .setErrorCol(\"error\")\n",
    "    .setLanguageCol(\"language\"))\n",
    "\n",
    "results = sentiment.transform(df)\n",
    "\n",
    "# Show the results in a table\n",
    "display(results.select(\"text\", col(\"sentiment\")[0].getItem(\"score\").alias(\"sentiment\")))"
   ]
  }
 ],
 "metadata": {
  "kernelspec": {
   "display_name": "Python 3",
   "language": "python",
   "name": "python3"
  },
  "language_info": {
   "codemirror_mode": {
    "name": "ipython",
    "version": 3
   },
   "file_extension": ".py",
   "mimetype": "text/x-python",
   "name": "python",
   "nbconvert_exporter": "python",
   "pygments_lexer": "ipython3",
   "version": "3.10.0 (tags/v3.10.0:b494f59, Oct  4 2021, 19:00:18) [MSC v.1929 64 bit (AMD64)]"
  },
  "orig_nbformat": 4,
  "vscode": {
   "interpreter": {
    "hash": "b5b2bc34872e55c33479cb5300fa7c6dd7d158a895efaf3c5b1a789cdefb1130"
   }
  }
 },
 "nbformat": 4,
 "nbformat_minor": 2
}
